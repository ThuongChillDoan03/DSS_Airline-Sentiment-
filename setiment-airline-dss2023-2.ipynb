{
 "cells": [
  {
   "cell_type": "code",
   "execution_count": 1,
   "id": "18bddf48",
   "metadata": {
    "execution": {
     "iopub.execute_input": "2024-06-16T15:48:07.072842Z",
     "iopub.status.busy": "2024-06-16T15:48:07.072435Z",
     "iopub.status.idle": "2024-06-16T15:48:20.535613Z",
     "shell.execute_reply": "2024-06-16T15:48:20.534299Z"
    },
    "papermill": {
     "duration": 13.480857,
     "end_time": "2024-06-16T15:48:20.537878",
     "exception": false,
     "start_time": "2024-06-16T15:48:07.057021",
     "status": "completed"
    },
    "tags": []
   },
   "outputs": [
    {
     "name": "stdout",
     "output_type": "stream",
     "text": [
      "Requirement already satisfied: keras in /opt/conda/lib/python3.10/site-packages (3.3.3)\r\n",
      "Requirement already satisfied: absl-py in /opt/conda/lib/python3.10/site-packages (from keras) (1.4.0)\r\n",
      "Requirement already satisfied: numpy in /opt/conda/lib/python3.10/site-packages (from keras) (1.26.4)\r\n",
      "Requirement already satisfied: rich in /opt/conda/lib/python3.10/site-packages (from keras) (13.7.0)\r\n",
      "Requirement already satisfied: namex in /opt/conda/lib/python3.10/site-packages (from keras) (0.0.8)\r\n",
      "Requirement already satisfied: h5py in /opt/conda/lib/python3.10/site-packages (from keras) (3.10.0)\r\n",
      "Requirement already satisfied: optree in /opt/conda/lib/python3.10/site-packages (from keras) (0.11.0)\r\n",
      "Requirement already satisfied: ml-dtypes in /opt/conda/lib/python3.10/site-packages (from keras) (0.2.0)\r\n"
     ]
    },
    {
     "name": "stdout",
     "output_type": "stream",
     "text": [
      "Requirement already satisfied: typing-extensions>=4.0.0 in /opt/conda/lib/python3.10/site-packages (from optree->keras) (4.9.0)\r\n"
     ]
    },
    {
     "name": "stdout",
     "output_type": "stream",
     "text": [
      "Requirement already satisfied: markdown-it-py>=2.2.0 in /opt/conda/lib/python3.10/site-packages (from rich->keras) (3.0.0)\r\n",
      "Requirement already satisfied: pygments<3.0.0,>=2.13.0 in /opt/conda/lib/python3.10/site-packages (from rich->keras) (2.17.2)\r\n",
      "Requirement already satisfied: mdurl~=0.1 in /opt/conda/lib/python3.10/site-packages (from markdown-it-py>=2.2.0->rich->keras) (0.1.2)\r\n"
     ]
    },
    {
     "name": "stdout",
     "output_type": "stream",
     "text": [
      "Note: you may need to restart the kernel to use updated packages.\n"
     ]
    }
   ],
   "source": [
    "pip install keras\n"
   ]
  },
  {
   "cell_type": "code",
   "execution_count": 2,
   "id": "e7f27de1",
   "metadata": {
    "execution": {
     "iopub.execute_input": "2024-06-16T15:48:20.567482Z",
     "iopub.status.busy": "2024-06-16T15:48:20.567126Z",
     "iopub.status.idle": "2024-06-16T15:48:28.474505Z",
     "shell.execute_reply": "2024-06-16T15:48:28.473543Z"
    },
    "papermill": {
     "duration": 7.924854,
     "end_time": "2024-06-16T15:48:28.476812",
     "exception": false,
     "start_time": "2024-06-16T15:48:20.551958",
     "status": "completed"
    },
    "tags": []
   },
   "outputs": [],
   "source": [
    "# Import libraries \n",
    "\n",
    "import random\n",
    "from collections import defaultdict\n",
    "import matplotlib.pyplot as plt\n",
    "from textwrap import wrap\n",
    "import pandas as pd\n",
    "import numpy as np\n",
    "import seaborn as sns\n",
    "import torch\n",
    "import os\n",
    "\n",
    "from matplotlib import rc\n",
    "from pylab import rcParams\n",
    "from sklearn.metrics import classification_report, confusion_matrix\n",
    "from sklearn.model_selection import train_test_split\n",
    "from transformers import (\n",
    "    AdamW,\n",
    "    BertModel,\n",
    "    BertTokenizer,\n",
    "    get_linear_schedule_with_warmup,\n",
    ")"
   ]
  },
  {
   "cell_type": "markdown",
   "id": "e4aa8228",
   "metadata": {
    "papermill": {
     "duration": 0.013774,
     "end_time": "2024-06-16T15:48:28.504830",
     "exception": false,
     "start_time": "2024-06-16T15:48:28.491056",
     "status": "completed"
    },
    "tags": []
   },
   "source": [
    "**READING DATA**"
   ]
  },
  {
   "cell_type": "code",
   "execution_count": 3,
   "id": "21f0930a",
   "metadata": {
    "execution": {
     "iopub.execute_input": "2024-06-16T15:48:28.535812Z",
     "iopub.status.busy": "2024-06-16T15:48:28.534543Z",
     "iopub.status.idle": "2024-06-16T15:48:28.544810Z",
     "shell.execute_reply": "2024-06-16T15:48:28.544116Z"
    },
    "papermill": {
     "duration": 0.027113,
     "end_time": "2024-06-16T15:48:28.546784",
     "exception": false,
     "start_time": "2024-06-16T15:48:28.519671",
     "status": "completed"
    },
    "tags": []
   },
   "outputs": [],
   "source": [
    "%matplotlib inline\n",
    "%config InlineBackend.figure_format='retina'"
   ]
  },
  {
   "cell_type": "code",
   "execution_count": 4,
   "id": "018da7bd",
   "metadata": {
    "execution": {
     "iopub.execute_input": "2024-06-16T15:48:28.575256Z",
     "iopub.status.busy": "2024-06-16T15:48:28.574956Z",
     "iopub.status.idle": "2024-06-16T15:48:28.634326Z",
     "shell.execute_reply": "2024-06-16T15:48:28.633183Z"
    },
    "papermill": {
     "duration": 0.07595,
     "end_time": "2024-06-16T15:48:28.636525",
     "exception": false,
     "start_time": "2024-06-16T15:48:28.560575",
     "status": "completed"
    },
    "tags": []
   },
   "outputs": [
    {
     "name": "stdout",
     "output_type": "stream",
     "text": [
      "CUDA is available!  Training on GPU ...\n"
     ]
    }
   ],
   "source": [
    "# Set color palette for plots\n",
    "color = lambda: random.randint(0, 255)\n",
    "colors = ['#%02X%02X%02X' %(color(), color(), color()) for i in range(6)]\n",
    "sns.set_palette(sns.color_palette(colors))\n",
    "rcParams['figure.figsize'] = 12, 10\n",
    "\n",
    "RANDOM_STATE = 42\n",
    "np.random.seed(RANDOM_STATE)\n",
    "torch.manual_seed(RANDOM_STATE)\n",
    "\n",
    "# Check if cuda is enabled in the device\n",
    "device = torch.cuda.is_available()\n",
    "\n",
    "if not device:\n",
    "    print('CUDA is not available.  Training on CPU ...')\n",
    "else:\n",
    "    print('CUDA is available!  Training on GPU ...')"
   ]
  },
  {
   "cell_type": "markdown",
   "id": "0eaaeeae",
   "metadata": {
    "papermill": {
     "duration": 0.01358,
     "end_time": "2024-06-16T15:48:28.664153",
     "exception": false,
     "start_time": "2024-06-16T15:48:28.650573",
     "status": "completed"
    },
    "tags": []
   },
   "source": [
    "**DATA EXPLORATION**"
   ]
  },
  {
   "cell_type": "code",
   "execution_count": 5,
   "id": "24c43620",
   "metadata": {
    "execution": {
     "iopub.execute_input": "2024-06-16T15:48:28.693803Z",
     "iopub.status.busy": "2024-06-16T15:48:28.693086Z",
     "iopub.status.idle": "2024-06-16T15:48:28.697618Z",
     "shell.execute_reply": "2024-06-16T15:48:28.696691Z"
    },
    "papermill": {
     "duration": 0.021641,
     "end_time": "2024-06-16T15:48:28.699666",
     "exception": false,
     "start_time": "2024-06-16T15:48:28.678025",
     "status": "completed"
    },
    "tags": []
   },
   "outputs": [],
   "source": [
    "os.environ['KAGGLE_USERNAME'] = 'xxxxxxxxxxxxxxx'\n",
    "os.environ['KAGGLE_KEY'] = 'xxxxxxxxxxxxxxxxxxxx'"
   ]
  },
  {
   "cell_type": "code",
   "execution_count": 6,
   "id": "6fa64adb",
   "metadata": {
    "execution": {
     "iopub.execute_input": "2024-06-16T15:48:28.729212Z",
     "iopub.status.busy": "2024-06-16T15:48:28.728441Z",
     "iopub.status.idle": "2024-06-16T15:48:30.389594Z",
     "shell.execute_reply": "2024-06-16T15:48:30.388775Z"
    },
    "papermill": {
     "duration": 1.67844,
     "end_time": "2024-06-16T15:48:30.392009",
     "exception": false,
     "start_time": "2024-06-16T15:48:28.713569",
     "status": "completed"
    },
    "tags": []
   },
   "outputs": [
    {
     "name": "stdout",
     "output_type": "stream",
     "text": [
      "Dataset URL: https://www.kaggle.com/datasets/crowdflower/twitter-airline-sentiment\n"
     ]
    }
   ],
   "source": [
    "from kaggle.api.kaggle_api_extended import KaggleApi\n",
    "from zipfile import ZipFile\n",
    "\n",
    "os.makedirs('data', exist_ok=True)\n",
    "\n",
    "api = KaggleApi()\n",
    "api.authenticate()\n",
    "api.dataset_download_file('crowdflower/twitter-airline-sentiment', 'Tweets.csv')\n",
    "zip_file = ZipFile('Tweets.csv.zip')\n",
    "zip_file.extractall('data')\n",
    "zip_file.close()\n",
    "os.remove('Tweets.csv.zip')"
   ]
  },
  {
   "cell_type": "code",
   "execution_count": 7,
   "id": "93b873de",
   "metadata": {
    "execution": {
     "iopub.execute_input": "2024-06-16T15:48:30.422359Z",
     "iopub.status.busy": "2024-06-16T15:48:30.421443Z",
     "iopub.status.idle": "2024-06-16T15:48:30.516836Z",
     "shell.execute_reply": "2024-06-16T15:48:30.515975Z"
    },
    "papermill": {
     "duration": 0.113045,
     "end_time": "2024-06-16T15:48:30.519359",
     "exception": false,
     "start_time": "2024-06-16T15:48:30.406314",
     "status": "completed"
    },
    "tags": []
   },
   "outputs": [],
   "source": [
    "df = pd.read_csv('data/Tweets.csv') "
   ]
  },
  {
   "cell_type": "code",
   "execution_count": 8,
   "id": "f58e390f",
   "metadata": {
    "execution": {
     "iopub.execute_input": "2024-06-16T15:48:30.549008Z",
     "iopub.status.busy": "2024-06-16T15:48:30.548642Z",
     "iopub.status.idle": "2024-06-16T15:48:30.577147Z",
     "shell.execute_reply": "2024-06-16T15:48:30.576021Z"
    },
    "papermill": {
     "duration": 0.045951,
     "end_time": "2024-06-16T15:48:30.579372",
     "exception": false,
     "start_time": "2024-06-16T15:48:30.533421",
     "status": "completed"
    },
    "tags": []
   },
   "outputs": [
    {
     "data": {
      "text/html": [
       "<div>\n",
       "<style scoped>\n",
       "    .dataframe tbody tr th:only-of-type {\n",
       "        vertical-align: middle;\n",
       "    }\n",
       "\n",
       "    .dataframe tbody tr th {\n",
       "        vertical-align: top;\n",
       "    }\n",
       "\n",
       "    .dataframe thead th {\n",
       "        text-align: right;\n",
       "    }\n",
       "</style>\n",
       "<table border=\"1\" class=\"dataframe\">\n",
       "  <thead>\n",
       "    <tr style=\"text-align: right;\">\n",
       "      <th></th>\n",
       "      <th>tweet_id</th>\n",
       "      <th>airline_sentiment</th>\n",
       "      <th>airline_sentiment_confidence</th>\n",
       "      <th>negativereason</th>\n",
       "      <th>negativereason_confidence</th>\n",
       "      <th>airline</th>\n",
       "      <th>airline_sentiment_gold</th>\n",
       "      <th>name</th>\n",
       "      <th>negativereason_gold</th>\n",
       "      <th>retweet_count</th>\n",
       "      <th>text</th>\n",
       "      <th>tweet_coord</th>\n",
       "      <th>tweet_created</th>\n",
       "      <th>tweet_location</th>\n",
       "      <th>user_timezone</th>\n",
       "    </tr>\n",
       "  </thead>\n",
       "  <tbody>\n",
       "    <tr>\n",
       "      <th>0</th>\n",
       "      <td>570306133677760513</td>\n",
       "      <td>neutral</td>\n",
       "      <td>1.0000</td>\n",
       "      <td>NaN</td>\n",
       "      <td>NaN</td>\n",
       "      <td>Virgin America</td>\n",
       "      <td>NaN</td>\n",
       "      <td>cairdin</td>\n",
       "      <td>NaN</td>\n",
       "      <td>0</td>\n",
       "      <td>@VirginAmerica What @dhepburn said.</td>\n",
       "      <td>NaN</td>\n",
       "      <td>2015-02-24 11:35:52 -0800</td>\n",
       "      <td>NaN</td>\n",
       "      <td>Eastern Time (US &amp; Canada)</td>\n",
       "    </tr>\n",
       "    <tr>\n",
       "      <th>1</th>\n",
       "      <td>570301130888122368</td>\n",
       "      <td>positive</td>\n",
       "      <td>0.3486</td>\n",
       "      <td>NaN</td>\n",
       "      <td>0.0000</td>\n",
       "      <td>Virgin America</td>\n",
       "      <td>NaN</td>\n",
       "      <td>jnardino</td>\n",
       "      <td>NaN</td>\n",
       "      <td>0</td>\n",
       "      <td>@VirginAmerica plus you've added commercials t...</td>\n",
       "      <td>NaN</td>\n",
       "      <td>2015-02-24 11:15:59 -0800</td>\n",
       "      <td>NaN</td>\n",
       "      <td>Pacific Time (US &amp; Canada)</td>\n",
       "    </tr>\n",
       "    <tr>\n",
       "      <th>2</th>\n",
       "      <td>570301083672813571</td>\n",
       "      <td>neutral</td>\n",
       "      <td>0.6837</td>\n",
       "      <td>NaN</td>\n",
       "      <td>NaN</td>\n",
       "      <td>Virgin America</td>\n",
       "      <td>NaN</td>\n",
       "      <td>yvonnalynn</td>\n",
       "      <td>NaN</td>\n",
       "      <td>0</td>\n",
       "      <td>@VirginAmerica I didn't today... Must mean I n...</td>\n",
       "      <td>NaN</td>\n",
       "      <td>2015-02-24 11:15:48 -0800</td>\n",
       "      <td>Lets Play</td>\n",
       "      <td>Central Time (US &amp; Canada)</td>\n",
       "    </tr>\n",
       "    <tr>\n",
       "      <th>3</th>\n",
       "      <td>570301031407624196</td>\n",
       "      <td>negative</td>\n",
       "      <td>1.0000</td>\n",
       "      <td>Bad Flight</td>\n",
       "      <td>0.7033</td>\n",
       "      <td>Virgin America</td>\n",
       "      <td>NaN</td>\n",
       "      <td>jnardino</td>\n",
       "      <td>NaN</td>\n",
       "      <td>0</td>\n",
       "      <td>@VirginAmerica it's really aggressive to blast...</td>\n",
       "      <td>NaN</td>\n",
       "      <td>2015-02-24 11:15:36 -0800</td>\n",
       "      <td>NaN</td>\n",
       "      <td>Pacific Time (US &amp; Canada)</td>\n",
       "    </tr>\n",
       "    <tr>\n",
       "      <th>4</th>\n",
       "      <td>570300817074462722</td>\n",
       "      <td>negative</td>\n",
       "      <td>1.0000</td>\n",
       "      <td>Can't Tell</td>\n",
       "      <td>1.0000</td>\n",
       "      <td>Virgin America</td>\n",
       "      <td>NaN</td>\n",
       "      <td>jnardino</td>\n",
       "      <td>NaN</td>\n",
       "      <td>0</td>\n",
       "      <td>@VirginAmerica and it's a really big bad thing...</td>\n",
       "      <td>NaN</td>\n",
       "      <td>2015-02-24 11:14:45 -0800</td>\n",
       "      <td>NaN</td>\n",
       "      <td>Pacific Time (US &amp; Canada)</td>\n",
       "    </tr>\n",
       "  </tbody>\n",
       "</table>\n",
       "</div>"
      ],
      "text/plain": [
       "             tweet_id airline_sentiment  airline_sentiment_confidence  \\\n",
       "0  570306133677760513           neutral                        1.0000   \n",
       "1  570301130888122368          positive                        0.3486   \n",
       "2  570301083672813571           neutral                        0.6837   \n",
       "3  570301031407624196          negative                        1.0000   \n",
       "4  570300817074462722          negative                        1.0000   \n",
       "\n",
       "  negativereason  negativereason_confidence         airline  \\\n",
       "0            NaN                        NaN  Virgin America   \n",
       "1            NaN                     0.0000  Virgin America   \n",
       "2            NaN                        NaN  Virgin America   \n",
       "3     Bad Flight                     0.7033  Virgin America   \n",
       "4     Can't Tell                     1.0000  Virgin America   \n",
       "\n",
       "  airline_sentiment_gold        name negativereason_gold  retweet_count  \\\n",
       "0                    NaN     cairdin                 NaN              0   \n",
       "1                    NaN    jnardino                 NaN              0   \n",
       "2                    NaN  yvonnalynn                 NaN              0   \n",
       "3                    NaN    jnardino                 NaN              0   \n",
       "4                    NaN    jnardino                 NaN              0   \n",
       "\n",
       "                                                text tweet_coord  \\\n",
       "0                @VirginAmerica What @dhepburn said.         NaN   \n",
       "1  @VirginAmerica plus you've added commercials t...         NaN   \n",
       "2  @VirginAmerica I didn't today... Must mean I n...         NaN   \n",
       "3  @VirginAmerica it's really aggressive to blast...         NaN   \n",
       "4  @VirginAmerica and it's a really big bad thing...         NaN   \n",
       "\n",
       "               tweet_created tweet_location               user_timezone  \n",
       "0  2015-02-24 11:35:52 -0800            NaN  Eastern Time (US & Canada)  \n",
       "1  2015-02-24 11:15:59 -0800            NaN  Pacific Time (US & Canada)  \n",
       "2  2015-02-24 11:15:48 -0800      Lets Play  Central Time (US & Canada)  \n",
       "3  2015-02-24 11:15:36 -0800            NaN  Pacific Time (US & Canada)  \n",
       "4  2015-02-24 11:14:45 -0800            NaN  Pacific Time (US & Canada)  "
      ]
     },
     "execution_count": 8,
     "metadata": {},
     "output_type": "execute_result"
    }
   ],
   "source": [
    "df.head() "
   ]
  },
  {
   "cell_type": "code",
   "execution_count": 9,
   "id": "bea0d2be",
   "metadata": {
    "execution": {
     "iopub.execute_input": "2024-06-16T15:48:30.611955Z",
     "iopub.status.busy": "2024-06-16T15:48:30.611369Z",
     "iopub.status.idle": "2024-06-16T15:48:30.637357Z",
     "shell.execute_reply": "2024-06-16T15:48:30.636337Z"
    },
    "papermill": {
     "duration": 0.043767,
     "end_time": "2024-06-16T15:48:30.639665",
     "exception": false,
     "start_time": "2024-06-16T15:48:30.595898",
     "status": "completed"
    },
    "tags": []
   },
   "outputs": [
    {
     "data": {
      "text/html": [
       "<div>\n",
       "<style scoped>\n",
       "    .dataframe tbody tr th:only-of-type {\n",
       "        vertical-align: middle;\n",
       "    }\n",
       "\n",
       "    .dataframe tbody tr th {\n",
       "        vertical-align: top;\n",
       "    }\n",
       "\n",
       "    .dataframe thead th {\n",
       "        text-align: right;\n",
       "    }\n",
       "</style>\n",
       "<table border=\"1\" class=\"dataframe\">\n",
       "  <thead>\n",
       "    <tr style=\"text-align: right;\">\n",
       "      <th></th>\n",
       "      <th>tweet_id</th>\n",
       "      <th>airline_sentiment</th>\n",
       "      <th>airline_sentiment_confidence</th>\n",
       "      <th>negativereason</th>\n",
       "      <th>negativereason_confidence</th>\n",
       "      <th>airline</th>\n",
       "      <th>airline_sentiment_gold</th>\n",
       "      <th>name</th>\n",
       "      <th>negativereason_gold</th>\n",
       "      <th>retweet_count</th>\n",
       "      <th>text</th>\n",
       "      <th>tweet_coord</th>\n",
       "      <th>tweet_created</th>\n",
       "      <th>tweet_location</th>\n",
       "      <th>user_timezone</th>\n",
       "    </tr>\n",
       "  </thead>\n",
       "  <tbody>\n",
       "    <tr>\n",
       "      <th>1</th>\n",
       "      <td>570301130888122368</td>\n",
       "      <td>positive</td>\n",
       "      <td>0.3486</td>\n",
       "      <td>NaN</td>\n",
       "      <td>0.0000</td>\n",
       "      <td>Virgin America</td>\n",
       "      <td>NaN</td>\n",
       "      <td>jnardino</td>\n",
       "      <td>NaN</td>\n",
       "      <td>0</td>\n",
       "      <td>@VirginAmerica plus you've added commercials t...</td>\n",
       "      <td>NaN</td>\n",
       "      <td>2015-02-24 11:15:59 -0800</td>\n",
       "      <td>NaN</td>\n",
       "      <td>Pacific Time (US &amp; Canada)</td>\n",
       "    </tr>\n",
       "    <tr>\n",
       "      <th>3</th>\n",
       "      <td>570301031407624196</td>\n",
       "      <td>negative</td>\n",
       "      <td>1.0000</td>\n",
       "      <td>Bad Flight</td>\n",
       "      <td>0.7033</td>\n",
       "      <td>Virgin America</td>\n",
       "      <td>NaN</td>\n",
       "      <td>jnardino</td>\n",
       "      <td>NaN</td>\n",
       "      <td>0</td>\n",
       "      <td>@VirginAmerica it's really aggressive to blast...</td>\n",
       "      <td>NaN</td>\n",
       "      <td>2015-02-24 11:15:36 -0800</td>\n",
       "      <td>NaN</td>\n",
       "      <td>Pacific Time (US &amp; Canada)</td>\n",
       "    </tr>\n",
       "    <tr>\n",
       "      <th>4</th>\n",
       "      <td>570300817074462722</td>\n",
       "      <td>negative</td>\n",
       "      <td>1.0000</td>\n",
       "      <td>Can't Tell</td>\n",
       "      <td>1.0000</td>\n",
       "      <td>Virgin America</td>\n",
       "      <td>NaN</td>\n",
       "      <td>jnardino</td>\n",
       "      <td>NaN</td>\n",
       "      <td>0</td>\n",
       "      <td>@VirginAmerica and it's a really big bad thing...</td>\n",
       "      <td>NaN</td>\n",
       "      <td>2015-02-24 11:14:45 -0800</td>\n",
       "      <td>NaN</td>\n",
       "      <td>Pacific Time (US &amp; Canada)</td>\n",
       "    </tr>\n",
       "    <tr>\n",
       "      <th>5</th>\n",
       "      <td>570300767074181121</td>\n",
       "      <td>negative</td>\n",
       "      <td>1.0000</td>\n",
       "      <td>Can't Tell</td>\n",
       "      <td>0.6842</td>\n",
       "      <td>Virgin America</td>\n",
       "      <td>NaN</td>\n",
       "      <td>jnardino</td>\n",
       "      <td>NaN</td>\n",
       "      <td>0</td>\n",
       "      <td>@VirginAmerica seriously would pay $30 a fligh...</td>\n",
       "      <td>NaN</td>\n",
       "      <td>2015-02-24 11:14:33 -0800</td>\n",
       "      <td>NaN</td>\n",
       "      <td>Pacific Time (US &amp; Canada)</td>\n",
       "    </tr>\n",
       "    <tr>\n",
       "      <th>6</th>\n",
       "      <td>570300616901320704</td>\n",
       "      <td>positive</td>\n",
       "      <td>0.6745</td>\n",
       "      <td>NaN</td>\n",
       "      <td>0.0000</td>\n",
       "      <td>Virgin America</td>\n",
       "      <td>NaN</td>\n",
       "      <td>cjmcginnis</td>\n",
       "      <td>NaN</td>\n",
       "      <td>0</td>\n",
       "      <td>@VirginAmerica yes, nearly every time I fly VX...</td>\n",
       "      <td>NaN</td>\n",
       "      <td>2015-02-24 11:13:57 -0800</td>\n",
       "      <td>San Francisco CA</td>\n",
       "      <td>Pacific Time (US &amp; Canada)</td>\n",
       "    </tr>\n",
       "  </tbody>\n",
       "</table>\n",
       "</div>"
      ],
      "text/plain": [
       "             tweet_id airline_sentiment  airline_sentiment_confidence  \\\n",
       "1  570301130888122368          positive                        0.3486   \n",
       "3  570301031407624196          negative                        1.0000   \n",
       "4  570300817074462722          negative                        1.0000   \n",
       "5  570300767074181121          negative                        1.0000   \n",
       "6  570300616901320704          positive                        0.6745   \n",
       "\n",
       "  negativereason  negativereason_confidence         airline  \\\n",
       "1            NaN                     0.0000  Virgin America   \n",
       "3     Bad Flight                     0.7033  Virgin America   \n",
       "4     Can't Tell                     1.0000  Virgin America   \n",
       "5     Can't Tell                     0.6842  Virgin America   \n",
       "6            NaN                     0.0000  Virgin America   \n",
       "\n",
       "  airline_sentiment_gold        name negativereason_gold  retweet_count  \\\n",
       "1                    NaN    jnardino                 NaN              0   \n",
       "3                    NaN    jnardino                 NaN              0   \n",
       "4                    NaN    jnardino                 NaN              0   \n",
       "5                    NaN    jnardino                 NaN              0   \n",
       "6                    NaN  cjmcginnis                 NaN              0   \n",
       "\n",
       "                                                text tweet_coord  \\\n",
       "1  @VirginAmerica plus you've added commercials t...         NaN   \n",
       "3  @VirginAmerica it's really aggressive to blast...         NaN   \n",
       "4  @VirginAmerica and it's a really big bad thing...         NaN   \n",
       "5  @VirginAmerica seriously would pay $30 a fligh...         NaN   \n",
       "6  @VirginAmerica yes, nearly every time I fly VX...         NaN   \n",
       "\n",
       "               tweet_created    tweet_location               user_timezone  \n",
       "1  2015-02-24 11:15:59 -0800               NaN  Pacific Time (US & Canada)  \n",
       "3  2015-02-24 11:15:36 -0800               NaN  Pacific Time (US & Canada)  \n",
       "4  2015-02-24 11:14:45 -0800               NaN  Pacific Time (US & Canada)  \n",
       "5  2015-02-24 11:14:33 -0800               NaN  Pacific Time (US & Canada)  \n",
       "6  2015-02-24 11:13:57 -0800  San Francisco CA  Pacific Time (US & Canada)  "
      ]
     },
     "execution_count": 9,
     "metadata": {},
     "output_type": "execute_result"
    }
   ],
   "source": [
    "df = df[df['airline_sentiment'] != 'neutral']\n",
    "df.head()"
   ]
  },
  {
   "cell_type": "code",
   "execution_count": 10,
   "id": "94fe74c5",
   "metadata": {
    "execution": {
     "iopub.execute_input": "2024-06-16T15:48:30.671744Z",
     "iopub.status.busy": "2024-06-16T15:48:30.671331Z",
     "iopub.status.idle": "2024-06-16T15:48:31.165344Z",
     "shell.execute_reply": "2024-06-16T15:48:31.164391Z"
    },
    "papermill": {
     "duration": 0.51292,
     "end_time": "2024-06-16T15:48:31.168170",
     "exception": false,
     "start_time": "2024-06-16T15:48:30.655250",
     "status": "completed"
    },
    "tags": []
   },
   "outputs": [
    {
     "data": {
      "text/plain": [
       "<Axes: xlabel='airline_sentiment', ylabel='count'>"
      ]
     },
     "execution_count": 10,
     "metadata": {},
     "output_type": "execute_result"
    },
    {
     "data": {
      "image/png": "[encoded data removed]",
      "text/plain": [
       "<Figure size 1200x1000 with 1 Axes>"
      ]
     },
     "metadata": {
      "image/png": {
       "height": 833,
       "width": 1014
      }
     },
     "output_type": "display_data"
    }
   ],
   "source": [
    "sns.countplot(x=df.airline_sentiment)  "
   ]
  },
  {
   "cell_type": "markdown",
   "id": "5b4c86f4",
   "metadata": {
    "papermill": {
     "duration": 0.015305,
     "end_time": "2024-06-16T15:48:31.201470",
     "exception": false,
     "start_time": "2024-06-16T15:48:31.186165",
     "status": "completed"
    },
    "tags": []
   },
   "source": [
    "**DATA PROCESSING**"
   ]
  },
  {
   "cell_type": "code",
   "execution_count": 11,
   "id": "0d7e4f43",
   "metadata": {
    "execution": {
     "iopub.execute_input": "2024-06-16T15:48:31.233996Z",
     "iopub.status.busy": "2024-06-16T15:48:31.233364Z",
     "iopub.status.idle": "2024-06-16T15:48:31.239192Z",
     "shell.execute_reply": "2024-06-16T15:48:31.238264Z"
    },
    "papermill": {
     "duration": 0.024227,
     "end_time": "2024-06-16T15:48:31.241199",
     "exception": false,
     "start_time": "2024-06-16T15:48:31.216972",
     "status": "completed"
    },
    "tags": []
   },
   "outputs": [],
   "source": [
    "import re \n",
    "def pre_processing(df): \n",
    "    df['text'] = df['text'].apply(lambda x: re.sub('http[s]?://(?:[a-zA-Z]|[0-9]|[$-_@.&+#]|[!*\\(\\),]|'\\\n",
    "                       '(?:%[0-9a-fA-F][0-9a-fA-F]))+','', x))\n",
    "    df['text'] = df['text'].apply(lambda x: re.sub('(@[A-Za-z0-9_]+)','', x)) "
   ]
  },
  {
   "cell_type": "code",
   "execution_count": 12,
   "id": "68e5f0c3",
   "metadata": {
    "execution": {
     "iopub.execute_input": "2024-06-16T15:48:31.272982Z",
     "iopub.status.busy": "2024-06-16T15:48:31.272701Z",
     "iopub.status.idle": "2024-06-16T15:48:31.335769Z",
     "shell.execute_reply": "2024-06-16T15:48:31.334848Z"
    },
    "papermill": {
     "duration": 0.081432,
     "end_time": "2024-06-16T15:48:31.338136",
     "exception": false,
     "start_time": "2024-06-16T15:48:31.256704",
     "status": "completed"
    },
    "tags": []
   },
   "outputs": [
    {
     "name": "stderr",
     "output_type": "stream",
     "text": [
      "/tmp/ipykernel_24/3573966731.py:6: FutureWarning: Downcasting behavior in `replace` is deprecated and will be removed in a future version. To retain the old behavior, explicitly call `result.infer_objects(copy=False)`. To opt-in to the future behavior, set `pd.set_option('future.no_silent_downcasting', True)`\n",
      "  df['labels'] = df.airline_sentiment.replace(labels_map)\n"
     ]
    }
   ],
   "source": [
    "pre_processing(df)\n",
    "\n",
    "# Encode labels\n",
    "possible_labels = df.airline_sentiment.unique()\n",
    "labels_map = {possible_labels[idx]: idx for idx, label in enumerate(possible_labels)}\n",
    "df['labels'] = df.airline_sentiment.replace(labels_map)"
   ]
  },
  {
   "cell_type": "code",
   "execution_count": 13,
   "id": "d298bdf2",
   "metadata": {
    "execution": {
     "iopub.execute_input": "2024-06-16T15:48:31.372134Z",
     "iopub.status.busy": "2024-06-16T15:48:31.371433Z",
     "iopub.status.idle": "2024-06-16T15:48:34.791534Z",
     "shell.execute_reply": "2024-06-16T15:48:34.790543Z"
    },
    "papermill": {
     "duration": 3.439859,
     "end_time": "2024-06-16T15:48:34.793997",
     "exception": false,
     "start_time": "2024-06-16T15:48:31.354138",
     "status": "completed"
    },
    "tags": []
   },
   "outputs": [
    {
     "data": {
      "application/vnd.jupyter.widget-view+json": {
       "model_id": "e63e73f773ea41a4a49fe8eb163fccb6",
       "version_major": 2,
       "version_minor": 0
      },
      "text/plain": [
       "tokenizer_config.json:   0%|          | 0.00/48.0 [00:00<?, ?B/s]"
      ]
     },
     "metadata": {},
     "output_type": "display_data"
    },
    {
     "data": {
      "application/vnd.jupyter.widget-view+json": {
       "model_id": "32363c9e18f74bc5a89f2b7ddc5ac292",
       "version_major": 2,
       "version_minor": 0
      },
      "text/plain": [
       "vocab.txt:   0%|          | 0.00/232k [00:00<?, ?B/s]"
      ]
     },
     "metadata": {},
     "output_type": "display_data"
    },
    {
     "data": {
      "application/vnd.jupyter.widget-view+json": {
       "model_id": "4f68f010330f49d8a11745e2149eab6e",
       "version_major": 2,
       "version_minor": 0
      },
      "text/plain": [
       "tokenizer.json:   0%|          | 0.00/466k [00:00<?, ?B/s]"
      ]
     },
     "metadata": {},
     "output_type": "display_data"
    },
    {
     "name": "stderr",
     "output_type": "stream",
     "text": [
      "/opt/conda/lib/python3.10/site-packages/huggingface_hub/file_download.py:1132: FutureWarning: `resume_download` is deprecated and will be removed in version 1.0.0. Downloads always resume when possible. If you want to force a new download, use `force_download=True`.\n",
      "  warnings.warn(\n"
     ]
    },
    {
     "data": {
      "application/vnd.jupyter.widget-view+json": {
       "model_id": "b732f7242c494fd8ba1210f7c885e224",
       "version_major": 2,
       "version_minor": 0
      },
      "text/plain": [
       "config.json:   0%|          | 0.00/570 [00:00<?, ?B/s]"
      ]
     },
     "metadata": {},
     "output_type": "display_data"
    }
   ],
   "source": [
    "MODEL = 'bert-base-uncased'\n",
    "tokenizer = BertTokenizer.from_pretrained(MODEL, do_lower_case=True)"
   ]
  },
  {
   "cell_type": "code",
   "execution_count": 14,
   "id": "5b3669a8",
   "metadata": {
    "execution": {
     "iopub.execute_input": "2024-06-16T15:48:34.827983Z",
     "iopub.status.busy": "2024-06-16T15:48:34.827614Z",
     "iopub.status.idle": "2024-06-16T15:48:43.989318Z",
     "shell.execute_reply": "2024-06-16T15:48:43.988353Z"
    },
    "papermill": {
     "duration": 9.181373,
     "end_time": "2024-06-16T15:48:43.991714",
     "exception": false,
     "start_time": "2024-06-16T15:48:34.810341",
     "status": "completed"
    },
    "tags": []
   },
   "outputs": [
    {
     "name": "stderr",
     "output_type": "stream",
     "text": [
      "/opt/conda/lib/python3.10/site-packages/seaborn/_oldcore.py:1119: FutureWarning: use_inf_as_na option is deprecated and will be removed in a future version. Convert inf values to NaN before operating instead.\n",
      "  with pd.option_context('mode.use_inf_as_na', True):\n"
     ]
    },
    {
     "data": {
      "image/png": "[encoded data removed]",
      "text/plain": [
       "<Figure size 500x500 with 1 Axes>"
      ]
     },
     "metadata": {
      "image/png": {
       "height": 509,
       "width": 499
      }
     },
     "output_type": "display_data"
    }
   ],
   "source": [
    "tokens = [len(tokenizer.encode(text, max_length=512, truncation=True)) for text in df.text]\n",
    "sns.displot(tokens)\n",
    "plt.xlim([0, 60]);\n",
    "plt.xlabel('Token count'); "
   ]
  },
  {
   "cell_type": "code",
   "execution_count": 15,
   "id": "6ba6a19c",
   "metadata": {
    "execution": {
     "iopub.execute_input": "2024-06-16T15:48:44.029218Z",
     "iopub.status.busy": "2024-06-16T15:48:44.028541Z",
     "iopub.status.idle": "2024-06-16T15:48:44.036609Z",
     "shell.execute_reply": "2024-06-16T15:48:44.035753Z"
    },
    "papermill": {
     "duration": 0.028806,
     "end_time": "2024-06-16T15:48:44.038650",
     "exception": false,
     "start_time": "2024-06-16T15:48:44.009844",
     "status": "completed"
    },
    "tags": []
   },
   "outputs": [],
   "source": [
    "from torch.utils.data import Dataset, DataLoader\n",
    "\n",
    "\n",
    "class CustomDataset(Dataset):\n",
    "    \n",
    "    def __init__(\n",
    "        self, \n",
    "        tweets, \n",
    "        labels, \n",
    "        tokenizer, \n",
    "        max_length\n",
    "    ):\n",
    "        self.tweets = tweets\n",
    "        self.labels = labels\n",
    "        self.tokenizer = tokenizer\n",
    "        self.max_length = max_length\n",
    "    \n",
    "    def __len__(self):\n",
    "        return len(self.tweets)\n",
    "    \n",
    "    def __getitem__(self, idx):\n",
    "        tweet = self.tweets[idx]\n",
    "        label = self.labels[idx]\n",
    "        \n",
    "        tokenize = self.tokenizer.encode_plus(\n",
    "            tweet,\n",
    "            add_special_tokens=True,\n",
    "            max_length=self.max_length,\n",
    "            return_token_type_ids=False,\n",
    "            padding='max_length',\n",
    "            return_attention_mask=True,\n",
    "            return_tensors='pt'\n",
    "        )\n",
    "        return {\n",
    "            'tweet': tweet,\n",
    "            'input_ids': tokenize['input_ids'].flatten(),\n",
    "            'attention_mask': tokenize['attention_mask'].flatten(),\n",
    "            'targets': torch.tensor(label, dtype=torch.long)\n",
    "               }"
   ]
  },
  {
   "cell_type": "code",
   "execution_count": 16,
   "id": "386aed21",
   "metadata": {
    "execution": {
     "iopub.execute_input": "2024-06-16T15:48:44.075211Z",
     "iopub.status.busy": "2024-06-16T15:48:44.074628Z",
     "iopub.status.idle": "2024-06-16T15:48:44.095173Z",
     "shell.execute_reply": "2024-06-16T15:48:44.094329Z"
    },
    "papermill": {
     "duration": 0.041123,
     "end_time": "2024-06-16T15:48:44.097422",
     "exception": false,
     "start_time": "2024-06-16T15:48:44.056299",
     "status": "completed"
    },
    "tags": []
   },
   "outputs": [],
   "source": [
    "MAX_LENGTH = 64  \n",
    "TEST_SIZE = 0.3 \n",
    "VALID_SIZE = 0.5 \n",
    "BATCH_SIZE = 16\n",
    "NUM_WORKERS = 2\n",
    "\n",
    "train_sampler, test_sampler = train_test_split(df, test_size=TEST_SIZE, random_state=RANDOM_STATE)\n",
    "valid_sampler, test_sampler = train_test_split(test_sampler, test_size=VALID_SIZE, random_state=RANDOM_STATE)\n",
    "\n",
    "train_set = CustomDataset(\n",
    "    train_sampler['text'].to_numpy(),\n",
    "    train_sampler['labels'].to_numpy(),\n",
    "    tokenizer, \n",
    "    MAX_LENGTH\n",
    ")\n",
    "test_set = CustomDataset(\n",
    "    test_sampler['text'].to_numpy(),\n",
    "    test_sampler['labels'].to_numpy(),\n",
    "    tokenizer, \n",
    "    MAX_LENGTH\n",
    ")\n",
    "valid_set = CustomDataset(\n",
    "    valid_sampler['text'].to_numpy(), \n",
    "    valid_sampler['labels'].to_numpy(), \n",
    "    tokenizer, \n",
    "    MAX_LENGTH\n",
    ")\n",
    "\n",
    "train_loader = DataLoader(train_set, batch_size=BATCH_SIZE, num_workers=NUM_WORKERS)\n",
    "test_loader = DataLoader(test_set, batch_size=BATCH_SIZE, num_workers=NUM_WORKERS)\n",
    "valid_loader = DataLoader(valid_set, batch_size=BATCH_SIZE, num_workers=NUM_WORKERS)"
   ]
  },
  {
   "cell_type": "code",
   "execution_count": 17,
   "id": "4b168c44",
   "metadata": {
    "execution": {
     "iopub.execute_input": "2024-06-16T15:48:44.133718Z",
     "iopub.status.busy": "2024-06-16T15:48:44.133115Z",
     "iopub.status.idle": "2024-06-16T15:48:44.140224Z",
     "shell.execute_reply": "2024-06-16T15:48:44.139325Z"
    },
    "papermill": {
     "duration": 0.027424,
     "end_time": "2024-06-16T15:48:44.142208",
     "exception": false,
     "start_time": "2024-06-16T15:48:44.114784",
     "status": "completed"
    },
    "tags": []
   },
   "outputs": [],
   "source": [
    "from torch import nn\n",
    "class AirlineSentimentClassifier(nn.Module):\n",
    "    \n",
    "    def __init__(self, num_labels):\n",
    "        super (AirlineSentimentClassifier, self).__init__()\n",
    "        self.bert = BertModel.from_pretrained(MODEL)\n",
    "        self.dropout = nn.Dropout(p=0.2) \n",
    "        self.classifier = nn.Linear(self.bert.config.hidden_size, num_labels)\n",
    "    \n",
    "    def forward(self, input_ids, attention_mask):\n",
    "        outputs = self.bert(\n",
    "            input_ids=input_ids,\n",
    "            attention_mask=attention_mask\n",
    "        )\n",
    "        pooled_output = outputs[1]\n",
    "        pooled_output = self.dropout(pooled_output)\n",
    "        out = self.classifier(pooled_output)\n",
    "        return out"
   ]
  },
  {
   "cell_type": "code",
   "execution_count": 18,
   "id": "0c9e05ca",
   "metadata": {
    "execution": {
     "iopub.execute_input": "2024-06-16T15:48:44.178289Z",
     "iopub.status.busy": "2024-06-16T15:48:44.177951Z",
     "iopub.status.idle": "2024-06-16T15:48:51.696907Z",
     "shell.execute_reply": "2024-06-16T15:48:51.696068Z"
    },
    "papermill": {
     "duration": 7.539445,
     "end_time": "2024-06-16T15:48:51.699250",
     "exception": false,
     "start_time": "2024-06-16T15:48:44.159805",
     "status": "completed"
    },
    "tags": []
   },
   "outputs": [
    {
     "data": {
      "application/vnd.jupyter.widget-view+json": {
       "model_id": "a78363a26842483d89cbd13db2af1b17",
       "version_major": 2,
       "version_minor": 0
      },
      "text/plain": [
       "model.safetensors:   0%|          | 0.00/440M [00:00<?, ?B/s]"
      ]
     },
     "metadata": {},
     "output_type": "display_data"
    },
    {
     "name": "stdout",
     "output_type": "stream",
     "text": [
      "AirlineSentimentClassifier(\n",
      "  (bert): BertModel(\n",
      "    (embeddings): BertEmbeddings(\n",
      "      (word_embeddings): Embedding(30522, 768, padding_idx=0)\n",
      "      (position_embeddings): Embedding(512, 768)\n",
      "      (token_type_embeddings): Embedding(2, 768)\n",
      "      (LayerNorm): LayerNorm((768,), eps=1e-12, elementwise_affine=True)\n",
      "      (dropout): Dropout(p=0.1, inplace=False)\n",
      "    )\n",
      "    (encoder): BertEncoder(\n",
      "      (layer): ModuleList(\n",
      "        (0-11): 12 x BertLayer(\n",
      "          (attention): BertAttention(\n",
      "            (self): BertSdpaSelfAttention(\n",
      "              (query): Linear(in_features=768, out_features=768, bias=True)\n",
      "              (key): Linear(in_features=768, out_features=768, bias=True)\n",
      "              (value): Linear(in_features=768, out_features=768, bias=True)\n",
      "              (dropout): Dropout(p=0.1, inplace=False)\n",
      "            )\n",
      "            (output): BertSelfOutput(\n",
      "              (dense): Linear(in_features=768, out_features=768, bias=True)\n",
      "              (LayerNorm): LayerNorm((768,), eps=1e-12, elementwise_affine=True)\n",
      "              (dropout): Dropout(p=0.1, inplace=False)\n",
      "            )\n",
      "          )\n",
      "          (intermediate): BertIntermediate(\n",
      "            (dense): Linear(in_features=768, out_features=3072, bias=True)\n",
      "            (intermediate_act_fn): GELUActivation()\n",
      "          )\n",
      "          (output): BertOutput(\n",
      "            (dense): Linear(in_features=3072, out_features=768, bias=True)\n",
      "            (LayerNorm): LayerNorm((768,), eps=1e-12, elementwise_affine=True)\n",
      "            (dropout): Dropout(p=0.1, inplace=False)\n",
      "          )\n",
      "        )\n",
      "      )\n",
      "    )\n",
      "    (pooler): BertPooler(\n",
      "      (dense): Linear(in_features=768, out_features=768, bias=True)\n",
      "      (activation): Tanh()\n",
      "    )\n",
      "  )\n",
      "  (dropout): Dropout(p=0.2, inplace=False)\n",
      "  (classifier): Linear(in_features=768, out_features=2, bias=True)\n",
      ")\n"
     ]
    }
   ],
   "source": [
    "model = AirlineSentimentClassifier(len(labels_map))\n",
    "print(model)\n",
    "\n",
    "# Move tensors to GPU on CUDA enables devices\n",
    "if device:\n",
    "    model.cuda()"
   ]
  },
  {
   "cell_type": "markdown",
   "id": "f5d7d7ab",
   "metadata": {
    "papermill": {
     "duration": 0.064179,
     "end_time": "2024-06-16T15:48:51.780910",
     "exception": false,
     "start_time": "2024-06-16T15:48:51.716731",
     "status": "completed"
    },
    "tags": []
   },
   "source": [
    "**LOSS FUNCTION AND OPTIMIZER**"
   ]
  },
  {
   "cell_type": "code",
   "execution_count": 19,
   "id": "f5c675ae",
   "metadata": {
    "execution": {
     "iopub.execute_input": "2024-06-16T15:48:51.817181Z",
     "iopub.status.busy": "2024-06-16T15:48:51.816298Z",
     "iopub.status.idle": "2024-06-16T15:48:51.827600Z",
     "shell.execute_reply": "2024-06-16T15:48:51.826602Z"
    },
    "papermill": {
     "duration": 0.031642,
     "end_time": "2024-06-16T15:48:51.829660",
     "exception": false,
     "start_time": "2024-06-16T15:48:51.798018",
     "status": "completed"
    },
    "tags": []
   },
   "outputs": [
    {
     "name": "stderr",
     "output_type": "stream",
     "text": [
      "/opt/conda/lib/python3.10/site-packages/transformers/optimization.py:588: FutureWarning: This implementation of AdamW is deprecated and will be removed in a future version. Use the PyTorch implementation torch.optim.AdamW instead, or set `no_deprecation_warning=True` to disable this warning\n",
      "  warnings.warn(\n"
     ]
    }
   ],
   "source": [
    "n_epochs = 20\n",
    "learning_rate =2e-5 \n",
    "\n",
    "# Loss function\n",
    "criterion = nn.CrossEntropyLoss() \n",
    "\n",
    "# Optimizer \n",
    "optimizer = AdamW(model.parameters(), lr=learning_rate, correct_bias=False)\n",
    "\n",
    "# Define scheduler\n",
    "training_steps = len(train_loader)*n_epochs\n",
    "scheduler = get_linear_schedule_with_warmup(\n",
    "    optimizer, \n",
    "    num_warmup_steps=0,\n",
    "    num_training_steps=training_steps\n",
    ")"
   ]
  },
  {
   "cell_type": "markdown",
   "id": "7e63f15c",
   "metadata": {
    "papermill": {
     "duration": 0.016774,
     "end_time": "2024-06-16T15:48:51.863649",
     "exception": false,
     "start_time": "2024-06-16T15:48:51.846875",
     "status": "completed"
    },
    "tags": []
   },
   "source": [
    "**TRAINNING**"
   ]
  },
  {
   "cell_type": "code",
   "execution_count": null,
   "id": "07de3e86",
   "metadata": {
    "execution": {
     "iopub.execute_input": "2024-06-16T12:32:44.013133Z",
     "iopub.status.busy": "2024-06-16T12:32:44.012229Z",
     "iopub.status.idle": "2024-06-16T12:53:27.133905Z",
     "shell.execute_reply": "2024-06-16T12:53:27.132901Z",
     "shell.execute_reply.started": "2024-06-16T12:32:44.013100Z"
    },
    "papermill": {
     "duration": null,
     "end_time": null,
     "exception": false,
     "start_time": "2024-06-16T15:48:51.880423",
     "status": "running"
    },
    "tags": []
   },
   "outputs": [],
   "source": [
    "# Track changes in validation loss\n",
    "valid_loss_min = np.Inf\n",
    "\n",
    "for epoch in range(1, n_epochs+1): \n",
    "    \n",
    "    # Setting training and validation loss\n",
    "    train_loss = []\n",
    "    validation_loss = []\n",
    "    tr_predictions = 0\n",
    "    acc = 0\n",
    "    val_predictions = 0\n",
    "    \n",
    "    ####################\n",
    "    #  Train the model #\n",
    "    ####################\n",
    "    model = model.train()\n",
    "    for data in train_loader:\n",
    "        \n",
    "        # Moving tensors to GPU on CUDA enabled devices\n",
    "        if device:\n",
    "            input_ids, attention_mask, targets = data[\"input_ids\"].cuda(), data[\"attention_mask\"].cuda(), data[\"targets\"].cuda()\n",
    "        # Clear the gradients of variables \n",
    "        optimizer.zero_grad()\n",
    "        \n",
    "        #### Forward pass\n",
    "        # Pass input through the model\n",
    "        output = model(\n",
    "            input_ids=input_ids,\n",
    "            attention_mask=attention_mask\n",
    "        )\n",
    "        # Compute batch loss\n",
    "        loss = criterion(output, targets)\n",
    "        # Convert output probabilities to class probabilities\n",
    "        _, pred = torch.max(output, 1)\n",
    "        # Track correct predictions\n",
    "        tr_predictions += torch.sum(pred == targets)\n",
    "        \n",
    "        #### Backward Pass\n",
    "        # Compute gradients wrt to model parameters\n",
    "        loss.backward()\n",
    "        # To avoid exploding gradients, we clip the gradients of the model\n",
    "        nn.utils.clip_grad_norm_(model.parameters(), max_norm=1.0)\n",
    "        # Perform parameter update\n",
    "        optimizer.step()\n",
    "        # Update learning rate\n",
    "        scheduler.step()        \n",
    "        # Update loss per mini batches\n",
    "        train_loss.append(loss.item())\n",
    "        \n",
    "    ######################\n",
    "    # Validate the model #\n",
    "    ######################\n",
    "    model.eval()\n",
    "    with torch.no_grad():\n",
    "        for data in valid_loader:\n",
    "\n",
    "            # Moving tensors to GPU on CUDA enabled devices\n",
    "            if device:\n",
    "                input_ids, attention_mask, targets = data[\"input_ids\"].cuda(), data[\"attention_mask\"].cuda(), data[\"targets\"].cuda() \n",
    "\n",
    "            #### Forward pass\n",
    "            # Pass input through the model\n",
    "            output = model(\n",
    "                input_ids=input_ids,\n",
    "                attention_mask=attention_mask\n",
    "            )\n",
    "            # Compute batch loss\n",
    "            loss = criterion(output, targets)  \n",
    "            # Convert output probabilities to class probabilities\n",
    "            _, pred = torch.max(output, 1) \n",
    "            # Update loss per mini batches\n",
    "            validation_loss.append(loss.item())\n",
    "            # Track correct predictions\n",
    "            val_predictions += torch.sum(pred == targets)\n",
    "    \n",
    "    # Compute accuracy\n",
    "    train_accuracy = tr_predictions.double()/len(train_sampler)\n",
    "    val_accuracy = val_predictions.double()/len(valid_sampler)\n",
    "    \n",
    "    # Print loss statistics\n",
    "    print('Epoch: {}/{} \\n\\tTraining Loss: {:.6f} \\n\\tValidation Loss: {:.6f} \\n\\tTrain Accuracy: {:.6f} \\n\\tVal Accuracy: {:.6f}'.format(epoch,n_epochs, np.mean(train_loss), np.mean(validation_loss), train_accuracy, val_accuracy))\n",
    "    \n",
    "    # Save model if validation loss is decreased\n",
    "    if val_accuracy > acc:\n",
    "        print('Saving model...')\n",
    "        torch.save(model.state_dict(), 'bert_base_fine_tuned.pt')\n",
    "        acc = val_accuracy"
   ]
  },
  {
   "cell_type": "markdown",
   "id": "33eefa05",
   "metadata": {
    "papermill": {
     "duration": null,
     "end_time": null,
     "exception": null,
     "start_time": null,
     "status": "pending"
    },
    "tags": []
   },
   "source": [
    "**Test the fine-tuned network**"
   ]
  },
  {
   "cell_type": "code",
   "execution_count": null,
   "id": "4be5d1e6",
   "metadata": {
    "execution": {
     "iopub.execute_input": "2024-06-16T13:01:35.299522Z",
     "iopub.status.busy": "2024-06-16T13:01:35.299132Z",
     "iopub.status.idle": "2024-06-16T13:01:39.009927Z",
     "shell.execute_reply": "2024-06-16T13:01:39.008812Z",
     "shell.execute_reply.started": "2024-06-16T13:01:35.299492Z"
    },
    "papermill": {
     "duration": null,
     "end_time": null,
     "exception": null,
     "start_time": null,
     "status": "pending"
    },
    "tags": []
   },
   "outputs": [],
   "source": [
    "test_loss = 0.0\n",
    "class_predictions = list(0. for i in range(3))\n",
    "class_total = list(0. for i in range(3))\n",
    "predictions = []\n",
    "labels = []\n",
    "\n",
    "model.eval()\n",
    "with torch.no_grad():\n",
    "    for data in test_loader:\n",
    "\n",
    "        # Moving tensors to GPU on CUDA enabled devices\n",
    "        if device:\n",
    "            input_ids, attention_mask, targets = data[\"input_ids\"].cuda(), data[\"attention_mask\"].cuda(), data[\"targets\"].cuda() \n",
    "\n",
    "        #### Forward pass\n",
    "        # Pass input through the model\n",
    "        output = model(\n",
    "            input_ids=input_ids,\n",
    "            attention_mask=attention_mask\n",
    "        )\n",
    "        # Compute batch loss\n",
    "        loss = criterion(output, targets)   \n",
    "        # Update loss\n",
    "        test_loss += loss.item()\n",
    "        # convert output probabilities to predicted class\n",
    "        _, pred = torch.max(output, 1)  \n",
    "\n",
    "        predictions.extend(pred)\n",
    "        labels.extend(targets)\n",
    "    \n",
    "predictions = torch.stack(predictions) if not device else torch.stack(predictions).cpu()\n",
    "labels = torch.stack(labels) if not device else torch.stack(labels).cpu()"
   ]
  },
  {
   "cell_type": "code",
   "execution_count": null,
   "id": "77f40216",
   "metadata": {
    "execution": {
     "iopub.execute_input": "2024-06-16T13:01:43.374970Z",
     "iopub.status.busy": "2024-06-16T13:01:43.374367Z",
     "iopub.status.idle": "2024-06-16T13:01:43.394325Z",
     "shell.execute_reply": "2024-06-16T13:01:43.393063Z",
     "shell.execute_reply.started": "2024-06-16T13:01:43.374922Z"
    },
    "papermill": {
     "duration": null,
     "end_time": null,
     "exception": null,
     "start_time": null,
     "status": "pending"
    },
    "tags": []
   },
   "outputs": [],
   "source": [
    "print(classification_report(predictions, labels, target_names=['positive','negative']))"
   ]
  },
  {
   "cell_type": "markdown",
   "id": "8effdc0a",
   "metadata": {
    "papermill": {
     "duration": null,
     "end_time": null,
     "exception": null,
     "start_time": null,
     "status": "pending"
    },
    "tags": []
   },
   "source": [
    "**Visualizations**"
   ]
  },
  {
   "cell_type": "code",
   "execution_count": null,
   "id": "f4fda6d8",
   "metadata": {
    "execution": {
     "iopub.execute_input": "2024-06-16T13:01:50.368705Z",
     "iopub.status.busy": "2024-06-16T13:01:50.368314Z",
     "iopub.status.idle": "2024-06-16T13:01:50.790688Z",
     "shell.execute_reply": "2024-06-16T13:01:50.789420Z",
     "shell.execute_reply.started": "2024-06-16T13:01:50.368666Z"
    },
    "papermill": {
     "duration": null,
     "end_time": null,
     "exception": null,
     "start_time": null,
     "status": "pending"
    },
    "tags": []
   },
   "outputs": [],
   "source": [
    "cm = confusion_matrix(labels, predictions)\n",
    "heatmap = sns.heatmap(cm, annot=True, fmt='d', cmap='Greens')\n",
    "heatmap.yaxis.set_ticklabels(heatmap.yaxis.get_ticklabels(), rotation=0, ha='right')\n",
    "heatmap.xaxis.set_ticklabels(heatmap.xaxis.get_ticklabels(), rotation=30, ha='right')\n",
    "plt.xlabel('True sentiment')\n",
    "plt.ylabel('Predicted sentiment');\n",
    "plt.gcf().set_size_inches(6, 4)\n",
    "plt.show()"
   ]
  },
  {
   "cell_type": "markdown",
   "id": "dc5c24ab",
   "metadata": {
    "papermill": {
     "duration": null,
     "end_time": null,
     "exception": null,
     "start_time": null,
     "status": "pending"
    },
    "tags": []
   },
   "source": [
    "# USING LSTM"
   ]
  },
  {
   "cell_type": "code",
   "execution_count": null,
   "id": "78445ad9",
   "metadata": {
    "execution": {
     "iopub.execute_input": "2024-06-16T13:07:03.099314Z",
     "iopub.status.busy": "2024-06-16T13:07:03.098571Z",
     "iopub.status.idle": "2024-06-16T13:07:03.104807Z",
     "shell.execute_reply": "2024-06-16T13:07:03.103921Z",
     "shell.execute_reply.started": "2024-06-16T13:07:03.099282Z"
    },
    "papermill": {
     "duration": null,
     "end_time": null,
     "exception": null,
     "start_time": null,
     "status": "pending"
    },
    "tags": []
   },
   "outputs": [],
   "source": [
    "import re\n",
    "import warnings\n",
    "import itertools\n",
    "import numpy as np \n",
    "import pandas as pd \n",
    "import seaborn as sns\n",
    "import tensorflow as tf\n",
    "import matplotlib.pyplot as plt\n",
    "from tensorflow.keras.preprocessing.text import Tokenizer\n",
    "from tensorflow.keras.preprocessing.sequence import pad_sequences\n",
    "from sklearn.model_selection import train_test_split\n",
    "from sklearn.metrics import confusion_matrix\n",
    "warnings.filterwarnings(\"ignore\", category=FutureWarning)"
   ]
  },
  {
   "cell_type": "markdown",
   "id": "6bd9a911",
   "metadata": {
    "papermill": {
     "duration": null,
     "end_time": null,
     "exception": null,
     "start_time": null,
     "status": "pending"
    },
    "tags": []
   },
   "source": [
    "**Reading the Dataset**"
   ]
  },
  {
   "cell_type": "code",
   "execution_count": null,
   "id": "4e832a04",
   "metadata": {
    "execution": {
     "iopub.execute_input": "2024-06-16T13:07:07.434770Z",
     "iopub.status.busy": "2024-06-16T13:07:07.433885Z",
     "iopub.status.idle": "2024-06-16T13:07:07.532048Z",
     "shell.execute_reply": "2024-06-16T13:07:07.531121Z",
     "shell.execute_reply.started": "2024-06-16T13:07:07.434735Z"
    },
    "papermill": {
     "duration": null,
     "end_time": null,
     "exception": null,
     "start_time": null,
     "status": "pending"
    },
    "tags": []
   },
   "outputs": [],
   "source": [
    "data = pd.read_csv(\"/kaggle/input/dataset/Tweets.csv\")\n",
    "df = data[[\"text\",\"airline_sentiment\"]]\n",
    "df['text'] = df['text'].map(lambda x: x.lstrip('@VirginAmerica@UnitedAir@Southwestairline@DeltaAir@USAirways@American').rstrip('@'))"
   ]
  },
  {
   "cell_type": "code",
   "execution_count": null,
   "id": "2898befa",
   "metadata": {
    "execution": {
     "iopub.execute_input": "2024-06-16T13:07:10.169326Z",
     "iopub.status.busy": "2024-06-16T13:07:10.168952Z",
     "iopub.status.idle": "2024-06-16T13:07:10.180553Z",
     "shell.execute_reply": "2024-06-16T13:07:10.179527Z",
     "shell.execute_reply.started": "2024-06-16T13:07:10.169295Z"
    },
    "papermill": {
     "duration": null,
     "end_time": null,
     "exception": null,
     "start_time": null,
     "status": "pending"
    },
    "tags": []
   },
   "outputs": [],
   "source": [
    "df "
   ]
  },
  {
   "cell_type": "code",
   "execution_count": null,
   "id": "b020d910",
   "metadata": {
    "execution": {
     "iopub.execute_input": "2024-06-16T13:07:13.663878Z",
     "iopub.status.busy": "2024-06-16T13:07:13.663503Z",
     "iopub.status.idle": "2024-06-16T13:07:13.758502Z",
     "shell.execute_reply": "2024-06-16T13:07:13.757514Z",
     "shell.execute_reply.started": "2024-06-16T13:07:13.663849Z"
    },
    "papermill": {
     "duration": null,
     "end_time": null,
     "exception": null,
     "start_time": null,
     "status": "pending"
    },
    "tags": []
   },
   "outputs": [],
   "source": [
    "df = df[df.airline_sentiment!=\"neutral\"] # To remove neutral responses\n",
    "df['text'] = df['text'].apply(lambda x: x.lower()) # To lower \n",
    "df['text'] = df['text'].apply((lambda x: re.sub('[^a-zA-z0-9\\s]','',x))) # To keep numbers and strings only"
   ]
  },
  {
   "cell_type": "code",
   "execution_count": null,
   "id": "a5d1b162",
   "metadata": {
    "execution": {
     "iopub.execute_input": "2024-06-16T13:07:16.415955Z",
     "iopub.status.busy": "2024-06-16T13:07:16.415553Z",
     "iopub.status.idle": "2024-06-16T13:07:16.426321Z",
     "shell.execute_reply": "2024-06-16T13:07:16.425258Z",
     "shell.execute_reply.started": "2024-06-16T13:07:16.415927Z"
    },
    "papermill": {
     "duration": null,
     "end_time": null,
     "exception": null,
     "start_time": null,
     "status": "pending"
    },
    "tags": []
   },
   "outputs": [],
   "source": [
    "df.head(5)  "
   ]
  },
  {
   "cell_type": "code",
   "execution_count": null,
   "id": "a7365f1a",
   "metadata": {
    "execution": {
     "iopub.execute_input": "2024-06-16T13:07:18.989228Z",
     "iopub.status.busy": "2024-06-16T13:07:18.988241Z",
     "iopub.status.idle": "2024-06-16T13:07:19.002312Z",
     "shell.execute_reply": "2024-06-16T13:07:19.001164Z",
     "shell.execute_reply.started": "2024-06-16T13:07:18.989182Z"
    },
    "papermill": {
     "duration": null,
     "end_time": null,
     "exception": null,
     "start_time": null,
     "status": "pending"
    },
    "tags": []
   },
   "outputs": [],
   "source": [
    "df = df.drop(df[df.airline_sentiment == \"negative\"].iloc[:5000].index)"
   ]
  },
  {
   "cell_type": "code",
   "execution_count": null,
   "id": "4218fee5",
   "metadata": {
    "execution": {
     "iopub.execute_input": "2024-06-16T13:07:22.032868Z",
     "iopub.status.busy": "2024-06-16T13:07:22.032190Z",
     "iopub.status.idle": "2024-06-16T13:07:22.352770Z",
     "shell.execute_reply": "2024-06-16T13:07:22.351690Z",
     "shell.execute_reply.started": "2024-06-16T13:07:22.032833Z"
    },
    "papermill": {
     "duration": null,
     "end_time": null,
     "exception": null,
     "start_time": null,
     "status": "pending"
    },
    "tags": []
   },
   "outputs": [],
   "source": [
    "max_fatures = 4000\n",
    "tokenizer = Tokenizer(num_words = max_fatures, split=' ')\n",
    "tokenizer.fit_on_texts(df['text'].values)\n",
    "X = tokenizer.texts_to_sequences(df['text'].values)\n",
    "X = pad_sequences(X)\n",
    "Y = df['airline_sentiment']\n",
    "L = Y.values\n",
    "X\n",
    "L"
   ]
  },
  {
   "cell_type": "code",
   "execution_count": null,
   "id": "04d82d1f",
   "metadata": {
    "execution": {
     "iopub.execute_input": "2024-06-16T13:07:27.463309Z",
     "iopub.status.busy": "2024-06-16T13:07:27.462586Z",
     "iopub.status.idle": "2024-06-16T13:07:27.470881Z",
     "shell.execute_reply": "2024-06-16T13:07:27.469901Z",
     "shell.execute_reply.started": "2024-06-16T13:07:27.463275Z"
    },
    "papermill": {
     "duration": null,
     "end_time": null,
     "exception": null,
     "start_time": null,
     "status": "pending"
    },
    "tags": []
   },
   "outputs": [],
   "source": [
    "k = []  \n",
    "for i in range(6541):\n",
    "    if L[i]==\"negative\":\n",
    "                        k.append(0)\n",
    "    elif L[i]==\"positive\":\n",
    "                        k.append(1)  "
   ]
  },
  {
   "cell_type": "markdown",
   "id": "2d0d747f",
   "metadata": {
    "papermill": {
     "duration": null,
     "end_time": null,
     "exception": null,
     "start_time": null,
     "status": "pending"
    },
    "tags": []
   },
   "source": [
    "**Train Test Split**"
   ]
  },
  {
   "cell_type": "code",
   "execution_count": null,
   "id": "dd133c42",
   "metadata": {
    "execution": {
     "iopub.execute_input": "2024-06-16T13:07:31.191944Z",
     "iopub.status.busy": "2024-06-16T13:07:31.191335Z",
     "iopub.status.idle": "2024-06-16T13:07:31.204018Z",
     "shell.execute_reply": "2024-06-16T13:07:31.202990Z",
     "shell.execute_reply.started": "2024-06-16T13:07:31.191910Z"
    },
    "papermill": {
     "duration": null,
     "end_time": null,
     "exception": null,
     "start_time": null,
     "status": "pending"
    },
    "tags": []
   },
   "outputs": [],
   "source": [
    "X_train, X_test, Y_train, Y_test = train_test_split(X, k, \n",
    "                                                    test_size=0.3, \n",
    "                                                    shuffle = True,\n",
    "                                                    stratify = k,\n",
    "                                                    random_state = 1 )"
   ]
  },
  {
   "cell_type": "markdown",
   "id": "af5b06e6",
   "metadata": {
    "papermill": {
     "duration": null,
     "end_time": null,
     "exception": null,
     "start_time": null,
     "status": "pending"
    },
    "tags": []
   },
   "source": [
    "**Defining the Model**"
   ]
  },
  {
   "cell_type": "code",
   "execution_count": null,
   "id": "4443ff8d",
   "metadata": {
    "execution": {
     "iopub.execute_input": "2024-06-16T13:07:34.217252Z",
     "iopub.status.busy": "2024-06-16T13:07:34.216416Z",
     "iopub.status.idle": "2024-06-16T13:07:34.548439Z",
     "shell.execute_reply": "2024-06-16T13:07:34.547680Z",
     "shell.execute_reply.started": "2024-06-16T13:07:34.217215Z"
    },
    "papermill": {
     "duration": null,
     "end_time": null,
     "exception": null,
     "start_time": null,
     "status": "pending"
    },
    "tags": []
   },
   "outputs": [],
   "source": [
    "embed_dim = 128\n",
    "lstm_out = 196\n",
    "model = tf.keras.models.Sequential()\n",
    "model.add(tf.keras.layers.Embedding(max_fatures, 128, input_length=X_train.shape[1]))\n",
    "model.add(tf.keras.layers.SpatialDropout1D(0.5))\n",
    "model.add(tf.keras.layers.LSTM(196, dropout = 0.3, recurrent_dropout = 0.3 ))\n",
    "model.add(tf.keras.layers.Dropout(0.2))\n",
    "model.add(tf.keras.layers.Dense(100, activation = tf.nn.relu))\n",
    "model.add(tf.keras.layers.Dropout(0.4))\n",
    "model.add(tf.keras.layers.Dense(2, activation = tf.nn.softmax))  "
   ]
  },
  {
   "cell_type": "code",
   "execution_count": null,
   "id": "60a22636",
   "metadata": {
    "execution": {
     "iopub.execute_input": "2024-06-16T13:07:38.443793Z",
     "iopub.status.busy": "2024-06-16T13:07:38.443441Z",
     "iopub.status.idle": "2024-06-16T13:07:38.466685Z",
     "shell.execute_reply": "2024-06-16T13:07:38.465918Z",
     "shell.execute_reply.started": "2024-06-16T13:07:38.443768Z"
    },
    "papermill": {
     "duration": null,
     "end_time": null,
     "exception": null,
     "start_time": null,
     "status": "pending"
    },
    "tags": []
   },
   "outputs": [],
   "source": [
    "model.compile(optimizer=\"adam\", loss=\"sparse_categorical_crossentropy\", metrics=[\"accuracy\"])"
   ]
  },
  {
   "cell_type": "code",
   "execution_count": null,
   "id": "d685bc1e",
   "metadata": {
    "execution": {
     "iopub.execute_input": "2024-06-16T13:07:41.634356Z",
     "iopub.status.busy": "2024-06-16T13:07:41.633675Z",
     "iopub.status.idle": "2024-06-16T13:08:41.546590Z",
     "shell.execute_reply": "2024-06-16T13:08:41.545265Z",
     "shell.execute_reply.started": "2024-06-16T13:07:41.634326Z"
    },
    "papermill": {
     "duration": null,
     "end_time": null,
     "exception": null,
     "start_time": null,
     "status": "pending"
    },
    "tags": []
   },
   "outputs": [],
   "source": [
    "!pip install --upgrade tensorflow keras "
   ]
  },
  {
   "cell_type": "code",
   "execution_count": null,
   "id": "348d033a",
   "metadata": {
    "execution": {
     "iopub.execute_input": "2024-06-16T13:08:41.555773Z",
     "iopub.status.busy": "2024-06-16T13:08:41.555420Z",
     "iopub.status.idle": "2024-06-16T13:08:41.808575Z",
     "shell.execute_reply": "2024-06-16T13:08:41.807628Z",
     "shell.execute_reply.started": "2024-06-16T13:08:41.555741Z"
    },
    "papermill": {
     "duration": null,
     "end_time": null,
     "exception": null,
     "start_time": null,
     "status": "pending"
    },
    "tags": []
   },
   "outputs": [],
   "source": [
    "print(type(X_train))\n",
    "print(type(Y_train))"
   ]
  },
  {
   "cell_type": "markdown",
   "id": "45188151",
   "metadata": {
    "papermill": {
     "duration": null,
     "end_time": null,
     "exception": null,
     "start_time": null,
     "status": "pending"
    },
    "tags": []
   },
   "source": [
    "**Training the Model**"
   ]
  },
  {
   "cell_type": "code",
   "execution_count": null,
   "id": "de53e9b9",
   "metadata": {
    "execution": {
     "iopub.execute_input": "2024-06-16T13:08:48.867560Z",
     "iopub.status.busy": "2024-06-16T13:08:48.866555Z",
     "iopub.status.idle": "2024-06-16T13:10:51.451904Z",
     "shell.execute_reply": "2024-06-16T13:10:51.450924Z",
     "shell.execute_reply.started": "2024-06-16T13:08:48.867520Z"
    },
    "papermill": {
     "duration": null,
     "end_time": null,
     "exception": null,
     "start_time": null,
     "status": "pending"
    },
    "tags": []
   },
   "outputs": [],
   "source": [
    "Y_train = np.array(Y_train)\n",
    "Model = model.fit(X_train,\n",
    "                         Y_train,\n",
    "                         epochs=20,\n",
    "                         batch_size=32,\n",
    "                         validation_split = 0.2,\n",
    "                         verbose = 2)"
   ]
  },
  {
   "cell_type": "code",
   "execution_count": null,
   "id": "18094679",
   "metadata": {
    "execution": {
     "iopub.execute_input": "2024-06-16T13:13:24.637155Z",
     "iopub.status.busy": "2024-06-16T13:13:24.636752Z",
     "iopub.status.idle": "2024-06-16T13:13:25.526457Z",
     "shell.execute_reply": "2024-06-16T13:13:25.525352Z",
     "shell.execute_reply.started": "2024-06-16T13:13:24.637125Z"
    },
    "papermill": {
     "duration": null,
     "end_time": null,
     "exception": null,
     "start_time": null,
     "status": "pending"
    },
    "tags": []
   },
   "outputs": [],
   "source": [
    "Y_test = np.array(Y_test)\n",
    "score = model.evaluate(X_test, Y_test, verbose=False) \n",
    "print(\"loss = \",score[0])\n",
    "print(\"accuracy = \",score[1]) "
   ]
  },
  {
   "cell_type": "code",
   "execution_count": null,
   "id": "a502b5e3",
   "metadata": {
    "execution": {
     "iopub.execute_input": "2024-06-16T13:13:28.905805Z",
     "iopub.status.busy": "2024-06-16T13:13:28.905139Z",
     "iopub.status.idle": "2024-06-16T13:13:29.757631Z",
     "shell.execute_reply": "2024-06-16T13:13:29.756678Z",
     "shell.execute_reply.started": "2024-06-16T13:13:28.905771Z"
    },
    "papermill": {
     "duration": null,
     "end_time": null,
     "exception": null,
     "start_time": null,
     "status": "pending"
    },
    "tags": []
   },
   "outputs": [],
   "source": [
    "train_loss = Model.history['loss']\n",
    "val_loss = Model.history['val_loss']\n",
    "train_acc = Model.history['accuracy']\n",
    "val_acc = Model.history['val_accuracy']\n",
    "epochs = range(1, len(train_loss) + 1)\n",
    "\n",
    "# Tạo một lưới 1x2 để vẽ hai biểu đồ cạnh nhau\n",
    "fig, axs = plt.subplots(1, 2, figsize=(10, 5))\n",
    "\n",
    "# Biểu đồ thứ nhất: Training Loss và Validation Loss\n",
    "axs[0].plot(epochs, train_loss, 'bo', label='Training loss')\n",
    "axs[0].plot(epochs, val_loss, 'r', label='Validation loss')\n",
    "axs[0].set_title('Training and validation loss')\n",
    "axs[0].set_xlabel('Epochs')\n",
    "axs[0].set_ylabel('Loss')\n",
    "axs[0].legend()\n",
    "\n",
    "# Biểu đồ thứ hai: Training Accuracy và Validation Accuracy\n",
    "axs[1].plot(epochs, train_acc, 'bo', label='Training accuracy')\n",
    "axs[1].plot(epochs, val_acc, 'r', label='Validation accuracy')\n",
    "axs[1].set_title('Training and validation accuracy')\n",
    "axs[1].set_xlabel('Epochs')\n",
    "axs[1].set_ylabel('Accuracy')\n",
    "axs[1].legend()\n",
    "\n",
    "# Hiển thị biểu đồ\n",
    "plt.tight_layout()\n",
    "plt.show()"
   ]
  },
  {
   "cell_type": "markdown",
   "id": "35fb2566",
   "metadata": {
    "papermill": {
     "duration": null,
     "end_time": null,
     "exception": null,
     "start_time": null,
     "status": "pending"
    },
    "tags": []
   },
   "source": [
    "**Plottiing the confusion matrix**"
   ]
  },
  {
   "cell_type": "code",
   "execution_count": null,
   "id": "dcb36c28",
   "metadata": {
    "execution": {
     "iopub.execute_input": "2024-06-16T13:13:34.517407Z",
     "iopub.status.busy": "2024-06-16T13:13:34.516675Z",
     "iopub.status.idle": "2024-06-16T13:13:36.534760Z",
     "shell.execute_reply": "2024-06-16T13:13:36.533792Z",
     "shell.execute_reply.started": "2024-06-16T13:13:34.517377Z"
    },
    "papermill": {
     "duration": null,
     "end_time": null,
     "exception": null,
     "start_time": null,
     "status": "pending"
    },
    "tags": []
   },
   "outputs": [],
   "source": [
    "def plot_confusion_matrix(cm, classes,\n",
    "                          normalize=False,\n",
    "                          title='Confusion matrix',\n",
    "                          cmap=plt.cm.Blues):\n",
    "#     plt.figsize(6,4)\n",
    "    plt.imshow(cm, interpolation='nearest', cmap=cmap)\n",
    "    plt.title(title)\n",
    "    plt.colorbar()\n",
    "    tick_marks = np.arange(len(classes))\n",
    "    plt.xticks(tick_marks, classes, rotation=45)\n",
    "    plt.yticks(tick_marks, classes)\n",
    "    if normalize:\n",
    "        cm = cm.astype('float') / cm.sum(axis=1)[:, np.newaxis]\n",
    "\n",
    "    thresh = cm.max() / 2.\n",
    "    for i, j in itertools.product(range(cm.shape[0]), range(cm.shape[1])):\n",
    "        plt.text(j, i, cm[i, j],\n",
    "                 horizontalalignment=\"center\",\n",
    "                 color=\"white\" if cm[i, j] > thresh else \"black\")\n",
    "\n",
    "    plt.tight_layout()\n",
    "    plt.ylabel('True label')\n",
    "    plt.xlabel('Predicted label')\n",
    "\n",
    "y_pred = model.predict(X_test)\n",
    "y_pred_classes = np.argmax(y_pred,axis = 1) \n",
    "confusion_mtx = confusion_matrix(Y_test, y_pred_classes) \n",
    "plot_confusion_matrix(confusion_mtx, classes = range(2))"
   ]
  },
  {
   "cell_type": "markdown",
   "id": "26455fd0",
   "metadata": {
    "papermill": {
     "duration": null,
     "end_time": null,
     "exception": null,
     "start_time": null,
     "status": "pending"
    },
    "tags": []
   },
   "source": [
    "**MODEL TEST**"
   ]
  },
  {
   "cell_type": "code",
   "execution_count": null,
   "id": "c8771ac3",
   "metadata": {
    "execution": {
     "iopub.execute_input": "2024-06-16T13:13:43.120239Z",
     "iopub.status.busy": "2024-06-16T13:13:43.119322Z",
     "iopub.status.idle": "2024-06-16T13:13:43.204051Z",
     "shell.execute_reply": "2024-06-16T13:13:43.203086Z",
     "shell.execute_reply.started": "2024-06-16T13:13:43.120204Z"
    },
    "papermill": {
     "duration": null,
     "end_time": null,
     "exception": null,
     "start_time": null,
     "status": "pending"
    },
    "tags": []
   },
   "outputs": [],
   "source": [
    "sample = ['Meetings: Air crew is so dumb.'] \n",
    "sample = tokenizer.texts_to_sequences(sample)\n",
    "sample = pad_sequences(sample, maxlen=31, dtype='int32', value=0)\n",
    "print(sample)    \n",
    "sentiment = model.predict(sample,batch_size=1,verbose = 2)[0]\n",
    "if(np.argmax(sentiment) == 0):\n",
    "    print(\"negative\")\n",
    "elif (np.argmax(sentiment) == 1):\n",
    "    print(\"positive\")"
   ]
  }
 ],
 "metadata": {
  "kaggle": {
   "accelerator": "gpu",
   "dataSources": [
    {
     "datasetId": 5177778,
     "sourceId": 8645239,
     "sourceType": "datasetVersion"
    }
   ],
   "dockerImageVersionId": 30732,
   "isGpuEnabled": true,
   "isInternetEnabled": true,
   "language": "python",
   "sourceType": "notebook"
  },
  "kernelspec": {
   "display_name": "Python 3",
   "language": "python",
   "name": "python3"
  },
  "language_info": {
   "codemirror_mode": {
    "name": "ipython",
    "version": 3
   },
   "file_extension": ".py",
   "mimetype": "text/x-python",
   "name": "python",
   "nbconvert_exporter": "python",
   "pygments_lexer": "ipython3",
   "version": "3.10.13"
  },
  "papermill": {
   "default_parameters": {},
   "duration": null,
   "end_time": null,
   "environment_variables": {},
   "exception": null,
   "input_path": "__notebook__.ipynb",
   "output_path": "__notebook__.ipynb",
   "parameters": {},
   "start_time": "2024-06-16T15:48:04.287353",
   "version": "2.5.0"
  }
 },
 "nbformat": 4,
 "nbformat_minor": 5
}